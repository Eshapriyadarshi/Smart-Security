{
 "cells": [
  {
   "cell_type": "code",
   "execution_count": 1,
   "id": "83135e87",
   "metadata": {},
   "outputs": [],
   "source": [
    "import tensorflow as tf\n",
    "from os import listdir\n",
    "from os.path import isdir, join\n",
    "from tensorflow.keras import layers, models\n",
    "import numpy as np"
   ]
  },
  {
   "cell_type": "code",
   "execution_count": 2,
   "id": "1703d122",
   "metadata": {},
   "outputs": [
    {
     "name": "stdout",
     "output_type": "stream",
     "text": [
      "['backward', 'bed', 'bird', 'cat', 'dog', 'down', 'eight', 'five', 'follow', 'forward', 'four', 'go', 'happy', 'house', 'learn', 'left', 'marvin', 'nine', 'no', 'off', 'on', 'one', 'right', 'seven', 'sheila', 'six', 'stop', 'three', 'tree', 'two', 'up', 'visual', 'wow', 'yes', 'zero', '_background_noise_']\n"
     ]
    }
   ],
   "source": [
    "dataset_path = 'D:\\data_speech_commands_v0.02'\n",
    "all_targets = [name for name in listdir(dataset_path) if isdir(join(dataset_path, name))]\n",
    "print(all_targets)"
   ]
  },
  {
   "cell_type": "code",
   "execution_count": 3,
   "id": "85d69146",
   "metadata": {},
   "outputs": [],
   "source": [
    "feature_sets_path = r'D:\\voice_recognition'\n",
    "feature_sets_filename = 'all_targets_mfcc_sets.npz'\n",
    "model_filename = 'wake_word_stop_model.h5'\n",
    "wake_word = 'stop'"
   ]
  },
  {
   "cell_type": "code",
   "execution_count": 4,
   "id": "450f9933",
   "metadata": {},
   "outputs": [],
   "source": [
    "feature_sets = np.load(join(feature_sets_path, feature_sets_filename))\n",
    "x_train = feature_sets['x_train']\n",
    "y_train = feature_sets['y_train']\n",
    "x_val = feature_sets['x_val']\n",
    "y_val = feature_sets['y_val']\n",
    "x_test = feature_sets['x_test']\n",
    "y_test = feature_sets['y_test']"
   ]
  },
  {
   "cell_type": "code",
   "execution_count": 5,
   "id": "70276a71",
   "metadata": {},
   "outputs": [],
   "source": [
    "wake_word_index1 = all_targets.index(wake_word)\n",
    "y_train = np.equal(y_train, wake_word_index1).astype('float64')\n",
    "y_val = np.equal(y_val, wake_word_index1).astype('float64')\n",
    "y_test = np.equal(y_test, wake_word_index1).astype('float64')"
   ]
  },
  {
   "cell_type": "code",
   "execution_count": 6,
   "id": "0cbedd90",
   "metadata": {},
   "outputs": [
    {
     "name": "stdout",
     "output_type": "stream",
     "text": [
      "[0. 0. 0. 0. 0. 0. 0. 0. 0. 0. 0. 0. 0. 0. 0. 0. 0. 0. 0. 1. 0. 0. 0. 0.\n",
      " 0. 0. 0. 0. 0. 0. 0. 0. 0. 0. 0. 0. 0. 0. 0. 0. 0. 0. 0. 0. 0. 0. 0. 0.\n",
      " 0. 0. 0. 0. 0. 0. 0. 0. 0. 0. 0. 0. 0. 0. 0. 0. 0. 0. 0. 0. 0. 0. 0. 0.\n",
      " 0. 0. 0. 0. 0. 0. 0. 0. 0. 0. 0. 0. 0. 0. 0. 0. 1. 0. 0. 0. 0. 0. 0. 0.\n",
      " 0. 0. 0. 0. 0. 1. 0. 0. 0. 0. 0. 0. 0. 0. 0. 0. 0. 0. 0. 0. 0. 0. 0. 0.\n",
      " 0. 0. 0. 1. 0. 0. 0. 0. 0. 0. 0. 0. 0. 0. 0. 0. 1. 0. 0. 0. 0. 0. 0. 0.\n",
      " 0. 1. 0. 0. 0. 0. 0. 0. 0. 0. 0. 0. 0. 0. 0. 0. 0. 0. 0. 0. 0. 0. 0. 0.\n",
      " 0. 0. 0. 0. 0. 0. 1. 0. 0. 0. 0. 0. 0. 0. 0. 0. 0. 0. 0. 0. 0. 0. 0. 0.\n",
      " 0. 0. 0. 0. 0. 0. 0. 1. 0. 0. 0. 0. 0. 0. 0. 0. 0. 0. 0. 0. 0. 0. 0. 0.\n",
      " 1. 0. 0. 0. 0. 0. 0. 0. 0. 0. 0. 0. 0. 0. 0. 0. 0. 0. 0. 0. 0. 0. 0. 0.\n",
      " 0. 0. 0. 0. 0. 0. 0. 0. 0. 0. 0. 0. 0. 0. 0. 0. 0. 0. 0. 0. 0. 0. 0. 0.\n",
      " 0. 0. 0. 0. 0. 1. 0. 0. 0. 0. 0. 0. 0. 0. 0. 0. 0. 0. 0. 0. 0. 0. 0. 0.\n",
      " 0. 0. 0. 0. 0. 0. 0. 0. 0. 1. 0. 0. 0. 1. 0. 0. 0. 0. 0. 0. 0. 0. 0. 0.\n",
      " 0. 0. 0. 1. 1. 0. 0. 0. 0. 0. 0. 0. 0. 0. 0. 0. 0. 0. 0. 0. 0. 0. 0. 0.\n",
      " 0. 0. 0. 0. 0. 0. 0. 0. 0. 0. 0. 0. 0. 0. 0. 0. 0. 0. 0. 0. 0. 0. 0. 0.\n",
      " 0. 0. 0. 0. 0. 0. 0. 1. 0. 0. 0. 0. 0. 0. 0. 0. 0. 0. 0. 0. 0. 0. 0. 0.\n",
      " 0. 0. 0. 0. 0. 0. 0. 0. 0. 0. 0. 0. 0. 0. 0. 0. 0. 0. 0. 0. 0. 0. 0. 0.\n",
      " 0. 0. 0. 0. 0. 0. 0. 0. 0. 0. 0. 0. 0. 0. 0. 0. 0. 0. 0. 0. 0. 0. 0. 0.\n",
      " 0. 0. 0. 0. 0. 0. 0. 0. 0. 0. 0. 0. 0. 0. 0. 0. 0. 0. 0. 0. 0. 0. 0. 0.\n",
      " 0. 0. 0. 0. 0. 0. 0. 0. 0. 0. 0. 0. 0. 0. 0. 0. 0. 0. 0. 0. 0. 0. 1. 0.\n",
      " 0. 0. 0. 0. 0. 0. 0. 0. 0. 0. 0. 0. 0. 0. 0. 0. 0. 0. 0. 0. 0. 0. 0. 0.\n",
      " 0. 0. 0. 0. 0. 0. 0. 0. 0. 1. 0. 0. 0. 0. 0. 0. 0. 1. 0. 0. 0. 0. 0. 0.\n",
      " 0. 0. 0. 0. 0. 0. 0. 0. 0. 0. 0. 0. 0. 0. 0. 0. 0. 0. 0. 0. 0. 0. 0. 0.\n",
      " 0. 0. 0. 0. 0. 0. 0. 0. 0. 0. 0. 0. 0. 0. 0. 1. 0. 0. 0. 0. 0. 0. 0. 0.\n",
      " 0. 0. 0. 0. 0. 0. 0. 0. 1. 0. 0. 0. 0. 0. 0. 0. 0. 0. 0. 0. 0. 0. 0. 0.\n",
      " 0. 0. 1. 0. 0. 1. 0. 0. 0. 0. 0. 0. 0. 0. 0. 0. 0. 0. 0. 0. 0. 0. 0. 0.\n",
      " 0. 0. 0. 0. 0. 0. 0. 0. 0. 0. 0. 0. 0. 0. 0. 1. 0. 0. 0. 0. 0. 0. 0. 0.\n",
      " 0. 0. 0. 0. 0. 0. 0. 0. 0. 0. 0. 0. 0. 0. 0. 0. 0. 0. 0. 0. 0. 0. 0. 0.\n",
      " 0. 0. 1. 0. 0. 1. 0. 0. 0. 0. 0. 0. 0. 0. 0. 0. 0. 0. 0. 0. 1. 0. 0. 0.\n",
      " 0. 0. 0. 0. 0. 0. 0. 0. 0. 0. 0. 0. 0. 0. 0. 0. 0. 0. 0. 0. 0. 0. 0. 0.\n",
      " 0. 0. 0. 0. 0. 0. 0. 0. 0. 0. 0. 0. 0. 0. 0. 0. 0. 0. 0. 0. 0. 0. 0. 0.\n",
      " 0. 0. 0. 0. 0. 0. 0. 0. 0. 0. 0. 0. 0. 0. 0. 0. 0. 0. 0. 0. 0. 0. 0. 0.\n",
      " 0. 0. 0. 0. 0. 0. 0. 0. 0. 0. 0. 0. 0. 0. 0. 0. 0. 0. 0. 0. 0. 1. 0. 0.\n",
      " 0. 0. 0. 0. 0. 0. 0. 0. 0. 0. 0. 0. 0. 0. 0. 0. 0. 0. 0. 0. 0. 0. 0. 0.\n",
      " 0. 0. 0. 0. 0. 0. 0. 0. 0. 0. 0. 0. 0. 0. 0. 0. 0. 0. 1. 0. 0. 0. 0. 0.\n",
      " 0. 0. 0. 0. 0. 0. 0. 0. 0. 0. 0. 0. 1. 0. 0. 0. 0. 0. 0. 0. 0. 0. 0. 0.\n",
      " 0. 0. 0. 0. 0. 0. 0. 0. 0. 0. 0. 0. 0. 0. 0. 0. 0. 0. 0. 0. 1. 0. 0. 0.\n",
      " 0. 0. 0. 0. 0. 0. 0. 0. 0. 0. 0. 0. 0. 0. 0. 0. 0. 0. 0. 0. 1. 0. 0. 0.\n",
      " 0. 0. 0. 0. 0. 0. 0. 0. 0. 0. 0. 0. 0. 0. 0. 0. 0. 0. 0. 0. 0. 0. 0. 0.\n",
      " 0. 0. 0. 0. 0. 0. 0. 0. 0. 0. 0. 0. 0. 0. 0. 0. 0. 0. 0. 0. 0. 0. 0. 0.\n",
      " 0. 0. 0. 0. 0. 0. 0. 0. 0. 0. 0. 0.]\n"
     ]
    }
   ],
   "source": [
    "print(y_val)"
   ]
  },
  {
   "cell_type": "code",
   "execution_count": 7,
   "id": "c57a828d",
   "metadata": {},
   "outputs": [
    {
     "name": "stdout",
     "output_type": "stream",
     "text": [
      "(7717, 16, 16, 1)\n",
      "(972, 16, 16, 1)\n",
      "(957, 16, 16, 1)\n"
     ]
    }
   ],
   "source": [
    "x_train = x_train.reshape(x_train.shape[0], \n",
    "                          x_train.shape[1], \n",
    "                          x_train.shape[2], \n",
    "                          1)\n",
    "x_val = x_val.reshape(x_val.shape[0], \n",
    "                      x_val.shape[1], \n",
    "                      x_val.shape[2], \n",
    "                      1)\n",
    "x_test = x_test.reshape(x_test.shape[0], \n",
    "                        x_test.shape[1], \n",
    "                        x_test.shape[2], \n",
    "                        1)\n",
    "print(x_train.shape)\n",
    "print(x_val.shape)\n",
    "print(x_test.shape)"
   ]
  },
  {
   "cell_type": "code",
   "execution_count": 8,
   "id": "91f7057b",
   "metadata": {},
   "outputs": [
    {
     "name": "stdout",
     "output_type": "stream",
     "text": [
      "(16, 16, 1)\n"
     ]
    }
   ],
   "source": [
    "sample_shape = x_test.shape[1:]\n",
    "print(sample_shape)"
   ]
  },
  {
   "cell_type": "code",
   "execution_count": 9,
   "id": "ad979046",
   "metadata": {},
   "outputs": [],
   "source": [
    "model = models.Sequential()\n",
    "model.add(layers.Conv2D(32, \n",
    "                        (2, 2), \n",
    "                        activation='relu',\n",
    "                        input_shape=sample_shape))\n",
    "model.add(layers.MaxPooling2D(pool_size=(2, 2)))\n",
    "\n",
    "model.add(layers.Conv2D(32, (2, 2), activation='relu'))\n",
    "model.add(layers.MaxPooling2D(pool_size=(2, 2)))\n",
    "\n",
    "model.add(layers.Conv2D(64, (2, 2), activation='relu'))\n",
    "model.add(layers.MaxPooling2D(pool_size=(2, 2)))\n",
    "\n",
    "# Classifier\n",
    "model.add(layers.Flatten())\n",
    "model.add(layers.Dense(64, activation='relu'))\n",
    "model.add(layers.Dropout(0.5))\n",
    "model.add(layers.Dense(1, activation='sigmoid'))"
   ]
  },
  {
   "cell_type": "code",
   "execution_count": 10,
   "id": "49923904",
   "metadata": {},
   "outputs": [],
   "source": [
    "model.compile(loss='binary_crossentropy', \n",
    "              optimizer='rmsprop', \n",
    "              metrics=['acc'])"
   ]
  },
  {
   "cell_type": "code",
   "execution_count": 11,
   "id": "fc04dd45",
   "metadata": {},
   "outputs": [
    {
     "name": "stdout",
     "output_type": "stream",
     "text": [
      "Train on 7717 samples, validate on 972 samples\n",
      "Epoch 1/30\n",
      "7717/7717 [==============================] - 3s 398us/sample - loss: 0.2227 - acc: 0.9480 - val_loss: 0.1317 - val_acc: 0.9681\n",
      "Epoch 2/30\n",
      "7717/7717 [==============================] - 0s 47us/sample - loss: 0.1485 - acc: 0.9623 - val_loss: 0.1131 - val_acc: 0.9681\n",
      "Epoch 3/30\n",
      "7717/7717 [==============================] - 0s 46us/sample - loss: 0.1296 - acc: 0.9629 - val_loss: 0.0913 - val_acc: 0.9681\n",
      "Epoch 4/30\n",
      "7717/7717 [==============================] - 0s 45us/sample - loss: 0.1157 - acc: 0.9657 - val_loss: 0.0921 - val_acc: 0.9681\n",
      "Epoch 5/30\n",
      "7717/7717 [==============================] - 0s 46us/sample - loss: 0.1044 - acc: 0.9668 - val_loss: 0.1605 - val_acc: 0.9414\n",
      "Epoch 6/30\n",
      "7717/7717 [==============================] - 0s 49us/sample - loss: 0.1002 - acc: 0.9676 - val_loss: 0.0963 - val_acc: 0.9712\n",
      "Epoch 7/30\n",
      "7717/7717 [==============================] - 0s 48us/sample - loss: 0.0917 - acc: 0.9701 - val_loss: 0.1149 - val_acc: 0.9691\n",
      "Epoch 8/30\n",
      "7717/7717 [==============================] - 0s 52us/sample - loss: 0.0882 - acc: 0.9720 - val_loss: 0.0646 - val_acc: 0.9805\n",
      "Epoch 9/30\n",
      "7717/7717 [==============================] - 0s 47us/sample - loss: 0.0800 - acc: 0.9736 - val_loss: 0.0852 - val_acc: 0.9681\n",
      "Epoch 10/30\n",
      "7717/7717 [==============================] - 0s 47us/sample - loss: 0.0778 - acc: 0.9736 - val_loss: 0.0746 - val_acc: 0.9784\n",
      "Epoch 11/30\n",
      "7717/7717 [==============================] - 0s 45us/sample - loss: 0.0705 - acc: 0.9759 - val_loss: 0.0778 - val_acc: 0.9712\n",
      "Epoch 12/30\n",
      "7717/7717 [==============================] - 0s 45us/sample - loss: 0.0675 - acc: 0.9771 - val_loss: 0.1046 - val_acc: 0.9599\n",
      "Epoch 13/30\n",
      "7717/7717 [==============================] - 0s 45us/sample - loss: 0.0609 - acc: 0.9794 - val_loss: 0.0481 - val_acc: 0.9846\n",
      "Epoch 14/30\n",
      "7717/7717 [==============================] - 0s 47us/sample - loss: 0.0620 - acc: 0.9793 - val_loss: 0.0613 - val_acc: 0.9835\n",
      "Epoch 15/30\n",
      "7717/7717 [==============================] - 0s 45us/sample - loss: 0.0593 - acc: 0.9800 - val_loss: 0.0549 - val_acc: 0.9805\n",
      "Epoch 16/30\n",
      "7717/7717 [==============================] - 0s 46us/sample - loss: 0.0502 - acc: 0.9826 - val_loss: 0.0871 - val_acc: 0.9753\n",
      "Epoch 17/30\n",
      "7717/7717 [==============================] - 0s 46us/sample - loss: 0.0517 - acc: 0.9819 - val_loss: 0.2434 - val_acc: 0.8889\n",
      "Epoch 18/30\n",
      "7717/7717 [==============================] - 0s 46us/sample - loss: 0.0490 - acc: 0.9830 - val_loss: 0.0574 - val_acc: 0.9805\n",
      "Epoch 19/30\n",
      "7717/7717 [==============================] - 0s 46us/sample - loss: 0.0460 - acc: 0.9838 - val_loss: 0.0640 - val_acc: 0.9733\n",
      "Epoch 20/30\n",
      "7717/7717 [==============================] - 0s 47us/sample - loss: 0.0423 - acc: 0.9841 - val_loss: 0.0644 - val_acc: 0.9805\n",
      "Epoch 21/30\n",
      "7717/7717 [==============================] - 0s 47us/sample - loss: 0.0409 - acc: 0.9837 - val_loss: 0.0913 - val_acc: 0.9630\n",
      "Epoch 22/30\n",
      "7717/7717 [==============================] - 0s 45us/sample - loss: 0.0385 - acc: 0.9850 - val_loss: 0.0678 - val_acc: 0.9805\n",
      "Epoch 23/30\n",
      "7717/7717 [==============================] - 0s 46us/sample - loss: 0.0369 - acc: 0.9873 - val_loss: 0.0384 - val_acc: 0.9887\n",
      "Epoch 24/30\n",
      "7717/7717 [==============================] - 0s 46us/sample - loss: 0.0315 - acc: 0.9887 - val_loss: 0.0441 - val_acc: 0.9866\n",
      "Epoch 25/30\n",
      "7717/7717 [==============================] - 0s 46us/sample - loss: 0.0292 - acc: 0.9896 - val_loss: 0.1343 - val_acc: 0.9794\n",
      "Epoch 26/30\n",
      "7717/7717 [==============================] - 0s 51us/sample - loss: 0.0302 - acc: 0.9891 - val_loss: 0.0426 - val_acc: 0.9866\n",
      "Epoch 27/30\n",
      "7717/7717 [==============================] - 0s 48us/sample - loss: 0.0235 - acc: 0.9902 - val_loss: 0.0650 - val_acc: 0.9774\n",
      "Epoch 28/30\n",
      "7717/7717 [==============================] - 0s 46us/sample - loss: 0.0278 - acc: 0.9913 - val_loss: 0.0507 - val_acc: 0.9805\n",
      "Epoch 29/30\n",
      "7717/7717 [==============================] - 0s 46us/sample - loss: 0.0242 - acc: 0.9918 - val_loss: 0.0558 - val_acc: 0.9846\n",
      "Epoch 30/30\n",
      "7717/7717 [==============================] - 0s 48us/sample - loss: 0.0249 - acc: 0.9913 - val_loss: 0.1276 - val_acc: 0.9805\n"
     ]
    }
   ],
   "source": [
    "with tf.device(\"/gpu:0\"):\n",
    "    history = model.fit(x_train, \n",
    "                        y_train, \n",
    "                        epochs=30, \n",
    "                        batch_size=100, \n",
    "                        validation_data=(x_val, y_val))"
   ]
  },
  {
   "cell_type": "code",
   "execution_count": null,
   "id": "02b33e6d",
   "metadata": {},
   "outputs": [],
   "source": []
  }
 ],
 "metadata": {
  "kernelspec": {
   "display_name": "Python 3",
   "language": "python",
   "name": "python3"
  },
  "language_info": {
   "codemirror_mode": {
    "name": "ipython",
    "version": 3
   },
   "file_extension": ".py",
   "mimetype": "text/x-python",
   "name": "python",
   "nbconvert_exporter": "python",
   "pygments_lexer": "ipython3",
   "version": "3.7.0"
  }
 },
 "nbformat": 4,
 "nbformat_minor": 5
}
