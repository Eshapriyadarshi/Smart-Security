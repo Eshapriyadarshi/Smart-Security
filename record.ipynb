{
 "cells": [
  {
   "cell_type": "code",
   "execution_count": 1,
   "id": "ea595123",
   "metadata": {},
   "outputs": [],
   "source": [
    "import sounddevice\n",
    "from scipy.io.wavfile import write\n"
   ]
  },
  {
   "cell_type": "code",
   "execution_count": 2,
   "id": "42ffb721",
   "metadata": {},
   "outputs": [
    {
     "name": "stdout",
     "output_type": "stream",
     "text": [
      "recording\n",
      "stop recording\n"
     ]
    }
   ],
   "source": [
    "fs = 44100\n",
    "second = 5\n",
    "print(\"recording\")\n",
    "record_voice = sounddevice.rec(int(second * fs),samplerate=fs,channels = 2)\n",
    "sounddevice.wait()\n",
    "write(\"output.wav\",fs,record_voice)\n",
    "print(\"stop recording\")"
   ]
  },
  {
   "cell_type": "code",
   "execution_count": null,
   "id": "e878f786",
   "metadata": {},
   "outputs": [],
   "source": []
  }
 ],
 "metadata": {
  "kernelspec": {
   "display_name": "Python 3",
   "language": "python",
   "name": "python3"
  },
  "language_info": {
   "codemirror_mode": {
    "name": "ipython",
    "version": 3
   },
   "file_extension": ".py",
   "mimetype": "text/x-python",
   "name": "python",
   "nbconvert_exporter": "python",
   "pygments_lexer": "ipython3",
   "version": "3.7.0"
  }
 },
 "nbformat": 4,
 "nbformat_minor": 5
}
