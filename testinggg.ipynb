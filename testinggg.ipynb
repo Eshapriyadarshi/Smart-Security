{
 "cells": [
  {
   "cell_type": "code",
   "execution_count": 18,
   "id": "5a6853fd",
   "metadata": {},
   "outputs": [],
   "source": [
    "import matplotlib.pyplot as plt\n",
    "from os import listdir\n",
    "from os.path import isdir, join\n",
    "from tensorflow.keras import layers, models\n",
    "import numpy as np"
   ]
  },
  {
   "cell_type": "code",
   "execution_count": 19,
   "id": "2d873851",
   "metadata": {},
   "outputs": [
    {
     "name": "stdout",
     "output_type": "stream",
     "text": [
      "36\n"
     ]
    }
   ],
   "source": [
    "dataset_path = 'D:\\data_speech_commands_v0.02'\n",
    "all_targets = all_targets = [name for name in listdir(dataset_path) if isdir(join(dataset_path, name))]\n",
    "print(len(all_targets))"
   ]
  },
  {
   "cell_type": "code",
   "execution_count": 20,
   "id": "43773ddb",
   "metadata": {},
   "outputs": [],
   "source": [
    "feature_sets_path = r'D:\\voice_recognition'\n",
    "feature_sets_filename = 'all_targets_mfcc_sets.npz'\n",
    "model_filename = 'wake_word_stop_model.h5'\n",
    "wake_word = [name for name in listdir(dataset_path) if isdir(join(dataset_path, name))]"
   ]
  },
  {
   "cell_type": "code",
   "execution_count": 21,
   "id": "da1b40ca",
   "metadata": {},
   "outputs": [
    {
     "name": "stdout",
     "output_type": "stream",
     "text": [
      "['x_train', 'y_train', 'x_val', 'y_val', 'x_test', 'y_test']\n"
     ]
    }
   ],
   "source": [
    "feature_sets = np.load(join(feature_sets_path, feature_sets_filename))\n",
    "print(feature_sets.files)\n",
    "\n",
    "x_train = feature_sets['x_train']\n",
    "y_train = feature_sets['y_train']\n",
    "x_val = feature_sets['x_val']\n",
    "y_val = feature_sets['y_val']\n",
    "x_test = feature_sets['x_test']\n",
    "y_test = feature_sets['y_test']"
   ]
  },
  {
   "cell_type": "code",
   "execution_count": 22,
   "id": "28621d83",
   "metadata": {},
   "outputs": [
    {
     "name": "stdout",
     "output_type": "stream",
     "text": [
      "(7717, 16, 16)\n",
      "(972, 16, 16)\n",
      "(957, 16, 16)\n"
     ]
    },
    {
     "data": {
      "text/plain": [
       "<matplotlib.image.AxesImage at 0x23cead871d0>"
      ]
     },
     "execution_count": 22,
     "metadata": {},
     "output_type": "execute_result"
    },
    {
     "data": {
      "image/png": "[encoded data removed]",
      "text/plain": [
       "<Figure size 432x288 with 1 Axes>"
      ]
     },
     "metadata": {
      "needs_background": "light"
     },
     "output_type": "display_data"
    }
   ],
   "source": [
    "print(x_train.shape)\n",
    "print(x_val.shape)\n",
    "print(x_test.shape)\n",
    "plt.imshow(x_train[0],cmap = 'inferno')"
   ]
  },
  {
   "cell_type": "code",
   "execution_count": 23,
   "id": "b0e5dce7",
   "metadata": {},
   "outputs": [
    {
     "name": "stdout",
     "output_type": "stream",
     "text": [
      "(7717, 16, 16, 1)\n",
      "(972, 16, 16, 1)\n",
      "(957, 16, 16, 1)\n"
     ]
    }
   ],
   "source": [
    "x_train = x_train.reshape(x_train.shape[0], \n",
    "                          x_train.shape[1], \n",
    "                          x_train.shape[2], \n",
    "                          1)\n",
    "x_val = x_val.reshape(x_val.shape[0], \n",
    "                      x_val.shape[1], \n",
    "                      x_val.shape[2], \n",
    "                      1)\n",
    "x_test = x_test.reshape(x_test.shape[0], \n",
    "                        x_test.shape[1], \n",
    "                        x_test.shape[2], \n",
    "                        1)\n",
    "print(x_train.shape)\n",
    "print(x_val.shape)\n",
    "print(x_test.shape)"
   ]
  },
  {
   "cell_type": "code",
   "execution_count": 24,
   "id": "f20ad075",
   "metadata": {},
   "outputs": [
    {
     "name": "stdout",
     "output_type": "stream",
     "text": [
      "(16, 16, 1)\n"
     ]
    }
   ],
   "source": [
    "sample_shape = x_test.shape[1:]\n",
    "print(sample_shape)"
   ]
  },
  {
   "cell_type": "code",
   "execution_count": 25,
   "id": "6b4eb1ef",
   "metadata": {},
   "outputs": [],
   "source": [
    "model = models.Sequential()\n",
    "model.add(layers.Conv2D(32, \n",
    "                        (2, 2), \n",
    "                        activation='relu',\n",
    "                        input_shape=sample_shape))\n",
    "model.add(layers.MaxPooling2D(pool_size=(2, 2)))\n",
    "\n",
    "model.add(layers.Conv2D(32, (2, 2), activation='relu'))\n",
    "model.add(layers.MaxPooling2D(pool_size=(2, 2)))\n",
    "\n",
    "model.add(layers.Conv2D(64, (2, 2), activation='relu'))\n",
    "model.add(layers.MaxPooling2D(pool_size=(2, 2)))\n",
    "\n",
    "# Classifier\n",
    "model.add(layers.Flatten())\n",
    "model.add(layers.Dense(64, activation='relu'))\n",
    "model.add(layers.Dropout(0.5))\n",
    "model.add(layers.Dense(36, activation='softmax'))"
   ]
  },
  {
   "cell_type": "code",
   "execution_count": 26,
   "id": "896c25f8",
   "metadata": {
    "scrolled": true
   },
   "outputs": [
    {
     "name": "stdout",
     "output_type": "stream",
     "text": [
      "Model: \"sequential_1\"\n",
      "_________________________________________________________________\n",
      "Layer (type)                 Output Shape              Param #   \n",
      "=================================================================\n",
      "conv2d_3 (Conv2D)            (None, 15, 15, 32)        160       \n",
      "_________________________________________________________________\n",
      "max_pooling2d_3 (MaxPooling2 (None, 7, 7, 32)          0         \n",
      "_________________________________________________________________\n",
      "conv2d_4 (Conv2D)            (None, 6, 6, 32)          4128      \n",
      "_________________________________________________________________\n",
      "max_pooling2d_4 (MaxPooling2 (None, 3, 3, 32)          0         \n",
      "_________________________________________________________________\n",
      "conv2d_5 (Conv2D)            (None, 2, 2, 64)          8256      \n",
      "_________________________________________________________________\n",
      "max_pooling2d_5 (MaxPooling2 (None, 1, 1, 64)          0         \n",
      "_________________________________________________________________\n",
      "flatten_1 (Flatten)          (None, 64)                0         \n",
      "_________________________________________________________________\n",
      "dense_2 (Dense)              (None, 64)                4160      \n",
      "_________________________________________________________________\n",
      "dropout_1 (Dropout)          (None, 64)                0         \n",
      "_________________________________________________________________\n",
      "dense_3 (Dense)              (None, 36)                2340      \n",
      "=================================================================\n",
      "Total params: 19,044\n",
      "Trainable params: 19,044\n",
      "Non-trainable params: 0\n",
      "_________________________________________________________________\n"
     ]
    }
   ],
   "source": [
    "model.summary()"
   ]
  },
  {
   "cell_type": "code",
   "execution_count": 27,
   "id": "ad99f8dd",
   "metadata": {},
   "outputs": [],
   "source": [
    "model.compile(loss='sparse_categorical_crossentropy', \n",
    "              optimizer='rmsprop', \n",
    "              metrics=['acc'])"
   ]
  },
  {
   "cell_type": "code",
   "execution_count": 28,
   "id": "0d07961a",
   "metadata": {},
   "outputs": [
    {
     "name": "stdout",
     "output_type": "stream",
     "text": [
      "Train on 7717 samples, validate on 972 samples\n",
      "Epoch 1/50\n",
      "7717/7717 [==============================] - 2s 208us/sample - loss: 3.5659 - acc: 0.0478 - val_loss: 3.3596 - val_acc: 0.0741\n",
      "Epoch 2/50\n",
      "7717/7717 [==============================] - 0s 61us/sample - loss: 3.3089 - acc: 0.0917 - val_loss: 3.0544 - val_acc: 0.1831\n",
      "Epoch 3/50\n",
      "7717/7717 [==============================] - 0s 58us/sample - loss: 3.0695 - acc: 0.1436 - val_loss: 2.7656 - val_acc: 0.2366\n",
      "Epoch 4/50\n",
      "7717/7717 [==============================] - 0s 58us/sample - loss: 2.8669 - acc: 0.1911 - val_loss: 2.5724 - val_acc: 0.2984\n",
      "Epoch 5/50\n",
      "7717/7717 [==============================] - 0s 56us/sample - loss: 2.6768 - acc: 0.2312 - val_loss: 2.4205 - val_acc: 0.3364\n",
      "Epoch 6/50\n",
      "7717/7717 [==============================] - 0s 62us/sample - loss: 2.5363 - acc: 0.2629 - val_loss: 2.1818 - val_acc: 0.3909\n",
      "Epoch 7/50\n",
      "7717/7717 [==============================] - 0s 57us/sample - loss: 2.4072 - acc: 0.2921 - val_loss: 2.0609 - val_acc: 0.4084\n",
      "Epoch 8/50\n",
      "7717/7717 [==============================] - 0s 55us/sample - loss: 2.3180 - acc: 0.3148 - val_loss: 2.0869 - val_acc: 0.3848\n",
      "Epoch 9/50\n",
      "7717/7717 [==============================] - 0s 56us/sample - loss: 2.2143 - acc: 0.3358 - val_loss: 1.9858 - val_acc: 0.4198\n",
      "Epoch 10/50\n",
      "7717/7717 [==============================] - 0s 56us/sample - loss: 2.1459 - acc: 0.3583 - val_loss: 1.8675 - val_acc: 0.4568\n",
      "Epoch 11/50\n",
      "7717/7717 [==============================] - 0s 55us/sample - loss: 2.0517 - acc: 0.3825 - val_loss: 1.9497 - val_acc: 0.4414\n",
      "Epoch 12/50\n",
      "7717/7717 [==============================] - 0s 54us/sample - loss: 2.0083 - acc: 0.3961 - val_loss: 1.9825 - val_acc: 0.4280\n",
      "Epoch 13/50\n",
      "7717/7717 [==============================] - 0s 56us/sample - loss: 1.9736 - acc: 0.4129 - val_loss: 1.9257 - val_acc: 0.4444\n",
      "Epoch 14/50\n",
      "7717/7717 [==============================] - 0s 59us/sample - loss: 1.9072 - acc: 0.4193 - val_loss: 1.7403 - val_acc: 0.4794\n",
      "Epoch 15/50\n",
      "7717/7717 [==============================] - 0s 56us/sample - loss: 1.8735 - acc: 0.4307 - val_loss: 1.7611 - val_acc: 0.4835\n",
      "Epoch 16/50\n",
      "7717/7717 [==============================] - 0s 55us/sample - loss: 1.8129 - acc: 0.4442 - val_loss: 1.8322 - val_acc: 0.4568\n",
      "Epoch 17/50\n",
      "7717/7717 [==============================] - 0s 62us/sample - loss: 1.7777 - acc: 0.4631 - val_loss: 1.7965 - val_acc: 0.4959\n",
      "Epoch 18/50\n",
      "7717/7717 [==============================] - 1s 72us/sample - loss: 1.7443 - acc: 0.4661 - val_loss: 1.6086 - val_acc: 0.5257\n",
      "Epoch 19/50\n",
      "7717/7717 [==============================] - 0s 57us/sample - loss: 1.7098 - acc: 0.4824 - val_loss: 1.6107 - val_acc: 0.5401\n",
      "Epoch 20/50\n",
      "7717/7717 [==============================] - 0s 60us/sample - loss: 1.6642 - acc: 0.4878 - val_loss: 1.5442 - val_acc: 0.5401\n",
      "Epoch 21/50\n",
      "7717/7717 [==============================] - 0s 56us/sample - loss: 1.6251 - acc: 0.5021 - val_loss: 1.5655 - val_acc: 0.5391\n",
      "Epoch 22/50\n",
      "7717/7717 [==============================] - 0s 57us/sample - loss: 1.6103 - acc: 0.5062 - val_loss: 1.5770 - val_acc: 0.5597\n",
      "Epoch 23/50\n",
      "7717/7717 [==============================] - 0s 55us/sample - loss: 1.5916 - acc: 0.5037 - val_loss: 1.4940 - val_acc: 0.5473\n",
      "Epoch 24/50\n",
      "7717/7717 [==============================] - 0s 62us/sample - loss: 1.5517 - acc: 0.5243 - val_loss: 1.5159 - val_acc: 0.5514\n",
      "Epoch 25/50\n",
      "7717/7717 [==============================] - 0s 56us/sample - loss: 1.5442 - acc: 0.5313 - val_loss: 1.5376 - val_acc: 0.5484\n",
      "Epoch 26/50\n",
      "7717/7717 [==============================] - 0s 59us/sample - loss: 1.5131 - acc: 0.5351 - val_loss: 1.5188 - val_acc: 0.5689\n",
      "Epoch 27/50\n",
      "7717/7717 [==============================] - 0s 55us/sample - loss: 1.5028 - acc: 0.5419 - val_loss: 1.4842 - val_acc: 0.5761\n",
      "Epoch 28/50\n",
      "7717/7717 [==============================] - 0s 53us/sample - loss: 1.4725 - acc: 0.5500 - val_loss: 1.5823 - val_acc: 0.5442\n",
      "Epoch 29/50\n",
      "7717/7717 [==============================] - 0s 55us/sample - loss: 1.4561 - acc: 0.5485 - val_loss: 1.5509 - val_acc: 0.5648\n",
      "Epoch 30/50\n",
      "7717/7717 [==============================] - 0s 53us/sample - loss: 1.4365 - acc: 0.5595 - val_loss: 1.4629 - val_acc: 0.5741\n",
      "Epoch 31/50\n",
      "7717/7717 [==============================] - 0s 55us/sample - loss: 1.4174 - acc: 0.5592 - val_loss: 1.4625 - val_acc: 0.5936\n",
      "Epoch 32/50\n",
      "7717/7717 [==============================] - 0s 56us/sample - loss: 1.3929 - acc: 0.5719 - val_loss: 1.4465 - val_acc: 0.5905\n",
      "Epoch 33/50\n",
      "7717/7717 [==============================] - 0s 57us/sample - loss: 1.3803 - acc: 0.5750 - val_loss: 1.5169 - val_acc: 0.5854\n",
      "Epoch 34/50\n",
      "7717/7717 [==============================] - 0s 55us/sample - loss: 1.3657 - acc: 0.5724 - val_loss: 1.5086 - val_acc: 0.5607\n",
      "Epoch 35/50\n",
      "7717/7717 [==============================] - 0s 54us/sample - loss: 1.3489 - acc: 0.5798 - val_loss: 1.5847 - val_acc: 0.5710\n",
      "Epoch 36/50\n",
      "7717/7717 [==============================] - 0s 54us/sample - loss: 1.3435 - acc: 0.5847 - val_loss: 1.4139 - val_acc: 0.5792\n",
      "Epoch 37/50\n",
      "7717/7717 [==============================] - 0s 57us/sample - loss: 1.3296 - acc: 0.5855 - val_loss: 1.7545 - val_acc: 0.5288\n",
      "Epoch 38/50\n",
      "7717/7717 [==============================] - 0s 58us/sample - loss: 1.3103 - acc: 0.5958 - val_loss: 1.5122 - val_acc: 0.5617\n",
      "Epoch 39/50\n",
      "7717/7717 [==============================] - 0s 55us/sample - loss: 1.2802 - acc: 0.6010 - val_loss: 1.3963 - val_acc: 0.6276\n",
      "Epoch 40/50\n",
      "7717/7717 [==============================] - 0s 59us/sample - loss: 1.2922 - acc: 0.6037 - val_loss: 1.3953 - val_acc: 0.6111\n",
      "Epoch 41/50\n",
      "7717/7717 [==============================] - 1s 69us/sample - loss: 1.2538 - acc: 0.6138 - val_loss: 1.7100 - val_acc: 0.5453\n",
      "Epoch 42/50\n",
      "7717/7717 [==============================] - 0s 57us/sample - loss: 1.2461 - acc: 0.6096 - val_loss: 1.5507 - val_acc: 0.5689\n",
      "Epoch 43/50\n",
      "7717/7717 [==============================] - 0s 56us/sample - loss: 1.2310 - acc: 0.6105 - val_loss: 1.4107 - val_acc: 0.6235\n",
      "Epoch 44/50\n",
      "7717/7717 [==============================] - 0s 59us/sample - loss: 1.2369 - acc: 0.6166 - val_loss: 1.4856 - val_acc: 0.5957\n",
      "Epoch 45/50\n",
      "7717/7717 [==============================] - 0s 58us/sample - loss: 1.2151 - acc: 0.6181 - val_loss: 1.3885 - val_acc: 0.6111\n",
      "Epoch 46/50\n",
      "7717/7717 [==============================] - 0s 57us/sample - loss: 1.2037 - acc: 0.6262 - val_loss: 1.4618 - val_acc: 0.5967\n",
      "Epoch 47/50\n",
      "7717/7717 [==============================] - 0s 58us/sample - loss: 1.2005 - acc: 0.6236 - val_loss: 1.3667 - val_acc: 0.6224\n",
      "Epoch 48/50\n",
      "7717/7717 [==============================] - 0s 57us/sample - loss: 1.1676 - acc: 0.6281 - val_loss: 1.4857 - val_acc: 0.5874\n",
      "Epoch 49/50\n",
      "7717/7717 [==============================] - 0s 56us/sample - loss: 1.1627 - acc: 0.6373 - val_loss: 1.4604 - val_acc: 0.5761\n",
      "Epoch 50/50\n",
      "7717/7717 [==============================] - 0s 54us/sample - loss: 1.1523 - acc: 0.6325 - val_loss: 1.4733 - val_acc: 0.5669\n"
     ]
    }
   ],
   "source": [
    "history = model.fit(x_train, \n",
    "                    y_train, \n",
    "                    epochs=50, \n",
    "                    batch_size=100, \n",
    "                    validation_data=(x_val, y_val))"
   ]
  },
  {
   "cell_type": "code",
   "execution_count": 29,
   "id": "a38657ff",
   "metadata": {},
   "outputs": [
    {
     "name": "stdout",
     "output_type": "stream",
     "text": [
      "(957, 36)\n",
      "stop\n"
     ]
    }
   ],
   "source": [
    "prediction = model.predict(x_test)\n",
    "\n",
    "print(prediction.shape)\n",
    "print(wake_word[np.argmax(prediction[761])])"
   ]
  },
  {
   "cell_type": "code",
   "execution_count": null,
   "id": "ba653172",
   "metadata": {},
   "outputs": [],
   "source": []
  },
  {
   "cell_type": "code",
   "execution_count": null,
   "id": "9742af13",
   "metadata": {},
   "outputs": [],
   "source": []
  }
 ],
 "metadata": {
  "kernelspec": {
   "display_name": "Python 3",
   "language": "python",
   "name": "python3"
  },
  "language_info": {
   "codemirror_mode": {
    "name": "ipython",
    "version": 3
   },
   "file_extension": ".py",
   "mimetype": "text/x-python",
   "name": "python",
   "nbconvert_exporter": "python",
   "pygments_lexer": "ipython3",
   "version": "3.7.0"
  }
 },
 "nbformat": 4,
 "nbformat_minor": 5
}
